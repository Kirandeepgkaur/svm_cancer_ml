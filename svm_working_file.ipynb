{
  "nbformat": 4,
  "nbformat_minor": 0,
  "metadata": {
    "colab": {
      "provenance": [],
      "authorship_tag": "ABX9TyOle6FG5OTJAyfwaEpwqPR3",
      "include_colab_link": true
    },
    "kernelspec": {
      "name": "python3",
      "display_name": "Python 3"
    },
    "language_info": {
      "name": "python"
    }
  },
  "cells": [
    {
      "cell_type": "markdown",
      "metadata": {
        "id": "view-in-github",
        "colab_type": "text"
      },
      "source": [
        "<a href=\"https://colab.research.google.com/github/Kirandeepgkaur/svm_cancer_ml/blob/main/svm_working_file.ipynb\" target=\"_parent\"><img src=\"https://colab.research.google.com/assets/colab-badge.svg\" alt=\"Open In Colab\"/></a>"
      ]
    },
    {
      "cell_type": "code",
      "execution_count": 50,
      "metadata": {
        "id": "kJV8u-aIL0o9"
      },
      "outputs": [],
      "source": [
        "import sklearn\n",
        "from sklearn import datasets\n",
        "from sklearn import svm\n",
        "from sklearn.model_selection import train_test_split\n",
        "from sklearn.neighbors import KNeighborsClassifier  \n",
        "import sklearn.metrics as metrics\n"
      ]
    },
    {
      "cell_type": "code",
      "source": [
        "cancer = datasets.load_breast_cancer()\n"
      ],
      "metadata": {
        "id": "WHKEqzEuL_sE"
      },
      "execution_count": 51,
      "outputs": []
    },
    {
      "cell_type": "code",
      "source": [
        "print(cancer.feature_names)\n"
      ],
      "metadata": {
        "colab": {
          "base_uri": "https://localhost:8080/"
        },
        "id": "mix0ZNYzbamr",
        "outputId": "646b3153-4f3f-4da6-ad10-df1acd2b8048"
      },
      "execution_count": 52,
      "outputs": [
        {
          "output_type": "stream",
          "name": "stdout",
          "text": [
            "['mean radius' 'mean texture' 'mean perimeter' 'mean area'\n",
            " 'mean smoothness' 'mean compactness' 'mean concavity'\n",
            " 'mean concave points' 'mean symmetry' 'mean fractal dimension'\n",
            " 'radius error' 'texture error' 'perimeter error' 'area error'\n",
            " 'smoothness error' 'compactness error' 'concavity error'\n",
            " 'concave points error' 'symmetry error' 'fractal dimension error'\n",
            " 'worst radius' 'worst texture' 'worst perimeter' 'worst area'\n",
            " 'worst smoothness' 'worst compactness' 'worst concavity'\n",
            " 'worst concave points' 'worst symmetry' 'worst fractal dimension']\n"
          ]
        }
      ]
    },
    {
      "cell_type": "code",
      "source": [
        "print(cancer.target_names)"
      ],
      "metadata": {
        "colab": {
          "base_uri": "https://localhost:8080/"
        },
        "id": "hkXQH_jjbiJW",
        "outputId": "d5127868-0313-4102-8710-20eaa1274d41"
      },
      "execution_count": 53,
      "outputs": [
        {
          "output_type": "stream",
          "name": "stdout",
          "text": [
            "['malignant' 'benign']\n"
          ]
        }
      ]
    },
    {
      "cell_type": "code",
      "source": [
        "X= cancer.data\n",
        "y = cancer.target"
      ],
      "metadata": {
        "id": "2pjxz1HBbyo8"
      },
      "execution_count": 54,
      "outputs": []
    },
    {
      "cell_type": "code",
      "source": [
        "x_train, x_test, y_train, y_test = train_test_split(X, y, test_size =0.2)\n",
        "print(x_train, y_train)\n",
        "\n",
        "classes = ['malignant' 'benign']"
      ],
      "metadata": {
        "colab": {
          "base_uri": "https://localhost:8080/"
        },
        "id": "zoDLTX_0brGu",
        "outputId": "72b46c2b-833a-466d-e887-a4fac8d3edcd"
      },
      "execution_count": 55,
      "outputs": [
        {
          "output_type": "stream",
          "name": "stdout",
          "text": [
            "[[1.805e+01 1.615e+01 1.202e+02 ... 2.102e-01 3.751e-01 1.108e-01]\n",
            " [1.189e+01 1.736e+01 7.620e+01 ... 8.946e-02 2.220e-01 6.033e-02]\n",
            " [1.825e+01 1.998e+01 1.196e+02 ... 1.932e-01 3.063e-01 8.368e-02]\n",
            " ...\n",
            " [1.227e+01 2.997e+01 7.742e+01 ... 0.000e+00 2.409e-01 6.743e-02]\n",
            " [1.497e+01 1.976e+01 9.550e+01 ... 5.754e-02 2.646e-01 6.085e-02]\n",
            " [1.016e+01 1.959e+01 6.473e+01 ... 2.232e-02 2.262e-01 6.742e-02]] [0 1 0 0 0 1 0 1 1 1 0 0 1 0 0 0 1 1 1 1 1 0 1 1 0 1 1 0 1 1 1 0 0 0 0 0 1\n",
            " 0 0 1 1 1 0 0 0 1 1 1 1 1 0 0 1 1 1 0 1 1 1 0 1 0 1 1 1 0 1 0 1 1 0 1 1 1\n",
            " 0 1 1 1 1 1 0 0 1 1 1 0 1 1 0 0 0 1 0 1 0 1 0 1 1 1 0 1 0 0 0 0 1 0 1 0 0\n",
            " 1 0 1 0 0 1 1 0 1 1 1 0 0 1 0 1 1 0 1 0 1 0 1 0 1 0 1 1 1 1 0 0 0 1 1 1 1\n",
            " 1 0 0 1 0 0 1 1 1 1 1 1 1 1 1 1 0 0 1 1 0 1 1 1 0 1 1 1 0 1 1 1 1 0 1 1 1\n",
            " 1 0 1 1 1 0 1 1 0 1 1 0 1 1 1 1 1 1 1 1 0 1 1 1 1 1 1 1 0 0 1 1 1 0 1 0 1\n",
            " 1 1 0 1 1 1 1 0 1 1 1 0 0 1 1 0 1 1 1 1 1 0 0 1 1 0 0 1 1 1 1 1 0 1 1 0 0\n",
            " 0 0 0 1 1 0 1 1 1 0 0 0 1 1 0 0 0 1 1 0 0 0 1 1 1 0 0 0 1 1 0 1 1 1 0 1 0\n",
            " 1 1 0 1 0 0 0 1 1 1 1 0 0 1 0 0 1 0 0 1 0 1 0 1 0 1 0 0 1 1 1 1 0 1 0 1 1\n",
            " 1 1 1 1 0 1 1 1 1 1 0 0 1 0 1 1 0 0 1 1 0 1 0 0 0 0 1 1 1 0 0 1 1 1 0 1 1\n",
            " 1 1 0 0 1 1 0 1 1 1 0 0 0 0 0 1 0 0 0 1 1 1 1 0 1 0 1 1 0 1 1 1 1 0 1 0 1\n",
            " 1 1 1 0 1 1 1 0 1 1 1 0 0 0 1 1 0 1 0 1 1 1 0 1 0 0 1 0 1 1 1 1 0 0 1 1 1\n",
            " 1 0 1 1 1 0 1 1 1 1 1]\n"
          ]
        }
      ]
    },
    {
      "cell_type": "code",
      "source": [
        "clf = svm.SVC(kernel=\"linear\")\n",
        "\n",
        "clf.fit(x_train, y_train) \n",
        "\n",
        "y_pred = clf.predict(x_test)"
      ],
      "metadata": {
        "id": "-Pu10w3gch87"
      },
      "execution_count": 85,
      "outputs": []
    },
    {
      "cell_type": "code",
      "source": [
        "acc = metrics.accuracy_score(y_test, y_pred)\n",
        "print(acc)"
      ],
      "metadata": {
        "id": "Xk4YDkrVbxod",
        "colab": {
          "base_uri": "https://localhost:8080/"
        },
        "outputId": "ee7c4b0a-ea11-4006-8af7-8f3c1a8157d0"
      },
      "execution_count": 86,
      "outputs": [
        {
          "output_type": "stream",
          "name": "stdout",
          "text": [
            "0.9298245614035088\n"
          ]
        }
      ]
    }
  ]
}